{
 "cells": [
  {
   "cell_type": "code",
   "execution_count": 1,
   "metadata": {},
   "outputs": [],
   "source": [
    "import numpy as np\n",
    "from netCDF4 import Dataset\n",
    "import matplotlib.pyplot as plt\n",
    "import matplotlib.colors as colors"
   ]
  },
  {
   "cell_type": "code",
   "execution_count": 2,
   "metadata": {},
   "outputs": [],
   "source": [
    "def ncdump(nc_fid, verb=True):\n",
    "    '''\n",
    "    ncdump outputs dimensions, variables and their attribute information.\n",
    "    The information is similar to that of NCAR's ncdump utility.\n",
    "    ncdump requires a valid instance of Dataset.\n",
    "\n",
    "    Parameters\n",
    "    ----------\n",
    "    nc_fid : netCDF4.Dataset\n",
    "        A netCDF4 dateset object\n",
    "    verb : Boolean\n",
    "        whether or not nc_attrs, nc_dims, and nc_vars are printed\n",
    "\n",
    "    Returns\n",
    "    -------\n",
    "    nc_attrs : list\n",
    "        A Python list of the NetCDF file global attributes\n",
    "    nc_dims : list\n",
    "        A Python list of the NetCDF file dimensions\n",
    "    nc_vars : list\n",
    "        A Python list of the NetCDF file variables\n",
    "    '''\n",
    "    def print_ncattr(key):\n",
    "        \"\"\"\n",
    "        Prints the NetCDF file attributes for a given key\n",
    "\n",
    "        Parameters\n",
    "        ----------\n",
    "        key : unicode\n",
    "            a valid netCDF4.Dataset.variables key\n",
    "        \"\"\"\n",
    "        try:\n",
    "            print \"\\t\\ttype:\", repr(nc_fid.variables[key].dtype)\n",
    "            for ncattr in nc_fid.variables[key].ncattrs():\n",
    "                print '\\t\\t%s:' % ncattr,\\\n",
    "                      repr(nc_fid.variables[key].getncattr(ncattr))\n",
    "        except KeyError:\n",
    "            print \"\\t\\tWARNING: %s does not contain variable attributes\" % key\n",
    "\n",
    "    # NetCDF global attributes\n",
    "    nc_attrs = nc_fid.ncattrs()\n",
    "    if verb:\n",
    "        print \"NetCDF Global Attributes:\"\n",
    "        for nc_attr in nc_attrs:\n",
    "            print '\\t%s:' % nc_attr, repr(nc_fid.getncattr(nc_attr))\n",
    "    nc_dims = [dim for dim in nc_fid.dimensions]  # list of nc dimensions\n",
    "    # Dimension shape information.\n",
    "    if verb:\n",
    "        print \"NetCDF dimension information:\"\n",
    "        for dim in nc_dims:\n",
    "            print \"\\tName:\", dim \n",
    "            print \"\\t\\tsize:\", len(nc_fid.dimensions[dim])\n",
    "            print_ncattr(dim)\n",
    "    # Variable information.\n",
    "    nc_vars = [var for var in nc_fid.variables]  # list of nc variables\n",
    "    if verb:\n",
    "        print \"NetCDF variable information:\"\n",
    "        for var in nc_vars:\n",
    "            if var not in nc_dims:\n",
    "                print '\\tName:', var\n",
    "                print \"\\t\\tdimensions:\", nc_fid.variables[var].dimensions\n",
    "                print \"\\t\\tsize:\", nc_fid.variables[var].size\n",
    "                print_ncattr(var)\n",
    "    return nc_attrs, nc_dims, nc_vars"
   ]
  },
  {
   "cell_type": "code",
   "execution_count": 3,
   "metadata": {},
   "outputs": [],
   "source": [
    "absol_nc_f = 'data/absolute.nc'"
   ]
  },
  {
   "cell_type": "code",
   "execution_count": 4,
   "metadata": {},
   "outputs": [],
   "source": [
    "absol_nc_f_id = Dataset(absol_nc_f, 'r')"
   ]
  },
  {
   "cell_type": "code",
   "execution_count": 5,
   "metadata": {},
   "outputs": [
    {
     "name": "stdout",
     "output_type": "stream",
     "text": [
      "NetCDF Global Attributes:\n",
      "NetCDF dimension information:\n",
      "\tName: lat\n",
      "\t\tsize: 36\n",
      "\t\ttype: dtype('float32')\n",
      "\t\tunits: u'degrees_north'\n",
      "\tName: lon\n",
      "\t\tsize: 72\n",
      "\t\ttype: dtype('float32')\n",
      "\t\tunits: u'degrees_east'\n",
      "\tName: time\n",
      "\t\tsize: 12\n",
      "\t\ttype: dtype('int16')\n",
      "\t\tunits: u'months'\n",
      "NetCDF variable information:\n",
      "\tName: tem\n",
      "\t\tdimensions: (u'time', u'lat', u'lon')\n",
      "\t\tsize: 31104\n",
      "\t\ttype: dtype('int16')\n",
      "\t\tlong_name: u'CRU_Global_1961-1990_Mean_Monthly_Surface_Temperature_Climatology'\n",
      "\t\tunits: u'celsius'\n",
      "\t\tscale_factor: 0.01\n",
      "\t\tvalid_min: -9000\n",
      "\t\tmissing_value: -9999\n"
     ]
    }
   ],
   "source": [
    "ab_attrs, ab_dims, ab_vars = ncdump(absol_nc_f_id)"
   ]
  },
  {
   "cell_type": "code",
   "execution_count": 6,
   "metadata": {},
   "outputs": [],
   "source": [
    "lats = absol_nc_f_id.variables['lat'][:]\n",
    "lons = absol_nc_f_id.variables['lon'][:]\n",
    "time = absol_nc_f_id.variables['time'][:]\n",
    "temp = absol_nc_f_id.variables['tem'][:]"
   ]
  },
  {
   "cell_type": "code",
   "execution_count": 7,
   "metadata": {},
   "outputs": [],
   "source": [
    "usual_mean = np.mean(temp)"
   ]
  },
  {
   "cell_type": "code",
   "execution_count": 8,
   "metadata": {
    "scrolled": true
   },
   "outputs": [
    {
     "name": "stdout",
     "output_type": "stream",
     "text": [
      "NetCDF Global Attributes:\n",
      "\ttitle: u'CRUTEM4 temperature anomalies'\n",
      "\tinstitution: u'Climatic Research Unit, University of East Anglia/Met Office Hadley Centre'\n",
      "\thistory: u''\n",
      "\tsource: u''\n",
      "\tcomment: u''\n",
      "\treference: u'Jones, P. D., D. H. Lister, T. J. Osborn, C. Harpham, M. Salmon, and C. P. Morice (2012), Hemispheric and large-scale land-surface air temperature variations: An extensive revision and an update to 2010, J. Geophys. Res., 117, D05127, doi:10.1029/2011JD017139'\n",
      "\tversion: u'CRUTEM.4.6.0.0'\n",
      "\tConventions: u'CF-1.0'\n",
      "NetCDF dimension information:\n",
      "\tName: latitude\n",
      "\t\tsize: 36\n",
      "\t\ttype: dtype('float32')\n",
      "\t\tstandard_name: u'latitude'\n",
      "\t\tlong_name: u'latitude'\n",
      "\t\tpoint_spacing: u'even'\n",
      "\t\tunits: u'degrees_north'\n",
      "\t\taxis: u'Y'\n",
      "\tName: longitude\n",
      "\t\tsize: 72\n",
      "\t\ttype: dtype('float32')\n",
      "\t\tstandard_name: u'longitude'\n",
      "\t\tlong_name: u'longitude'\n",
      "\t\tpoint_spacing: u'even'\n",
      "\t\tunits: u'degrees_east'\n",
      "\t\taxis: u'X'\n",
      "\tName: time\n",
      "\t\tsize: 2018\n",
      "\t\ttype: dtype('float32')\n",
      "\t\tstandard_name: u'time'\n",
      "\t\tlong_name: u'time'\n",
      "\t\tunits: u'days since 1850-1-1 00:00:00'\n",
      "\t\tcalendar: u'gregorian'\n",
      "\t\taxis: u'T'\n",
      "\tName: field_status_string_length\n",
      "\t\tsize: 1\n",
      "\t\ttype: \t\tWARNING: field_status_string_length does not contain variable attributes\n",
      "NetCDF variable information:\n",
      "\tName: temperature_anomaly\n",
      "\t\tdimensions: (u'time', u'latitude', u'longitude')\n",
      "\t\tsize: 5230656\n",
      "\t\ttype: dtype('float32')\n",
      "\t\tlong_name: u'temperature_anomaly'\n",
      "\t\tunits: u'K'\n",
      "\t\tmissing_value: -1e+30\n",
      "\t\t_FillValue: -1e+30\n",
      "\t\treference_period: array([1961, 1990], dtype=int16)\n",
      "\tName: field_status\n",
      "\t\tdimensions: (u'time', u'field_status_string_length')\n",
      "\t\tsize: 2018\n",
      "\t\ttype: dtype('S1')\n",
      "\t\tlong_name: u'field_status'\n"
     ]
    }
   ],
   "source": [
    "all_nc_f = 'data/CRUTEM.4.6.0.0.anomalies.nc'\n",
    "all_nc_f_id = Dataset(all_nc_f,'r')\n",
    "all_attrs, all_dims, all_vars = ncdump(all_nc_f_id)"
   ]
  },
  {
   "cell_type": "code",
   "execution_count": 9,
   "metadata": {},
   "outputs": [],
   "source": [
    "all_lats = all_nc_f_id.variables['latitude'][:]\n",
    "all_lons = all_nc_f_id.variables['longitude'][:]\n",
    "all_time = all_nc_f_id.variables['time'][:]\n",
    "all_temp = all_nc_f_id.variables['temperature_anomaly'][:]"
   ]
  },
  {
   "cell_type": "code",
   "execution_count": 10,
   "metadata": {},
   "outputs": [],
   "source": [
    "all_temp_abs = np.mean(all_temp, axis=(1,2)) + usual_mean"
   ]
  },
  {
   "cell_type": "code",
   "execution_count": 11,
   "metadata": {},
   "outputs": [
    {
     "data": {
      "text/plain": [
       "[<matplotlib.lines.Line2D at 0x7efbc952e190>]"
      ]
     },
     "execution_count": 11,
     "metadata": {},
     "output_type": "execute_result"
    },
    {
     "data": {
      "image/png": "[encoded data removed]",
      "text/plain": [
       "<matplotlib.figure.Figure at 0x7efbc952e890>"
      ]
     },
     "metadata": {},
     "output_type": "display_data"
    }
   ],
   "source": [
    "plt.plot(all_temp_abs-np.mean(all_temp_abs))"
   ]
  },
  {
   "cell_type": "code",
   "execution_count": 12,
   "metadata": {},
   "outputs": [],
   "source": [
    "sunspot_f = 'data/bflydata.txt'\n",
    "sunspot_f_raw = open(sunspot_f, \"r\").readlines()"
   ]
  },
  {
   "cell_type": "code",
   "execution_count": 27,
   "metadata": {},
   "outputs": [],
   "source": [
    "# Carrington numbers\n",
    "sunspot_indices = np.array(sunspot_f_raw[::6]).astype(int)\n",
    "sunspot_indices = sunspot_indices*27.2753 + 312 + 3*365.25"
   ]
  },
  {
   "cell_type": "code",
   "execution_count": 14,
   "metadata": {},
   "outputs": [],
   "source": [
    "sunspot_numbers = []\n",
    "for i in range(len(sunspot_indices)):\n",
    "    sunspot_number = np.concatenate((\n",
    "                    np.array(sunspot_f_raw[i*6+1].split(','))[:-1].astype(int),\n",
    "                    np.array(sunspot_f_raw[i*6+2].split(','))[:-1].astype(int),\n",
    "                    np.array(sunspot_f_raw[i*6+3].split(','))[:-1].astype(int),\n",
    "                    np.array(sunspot_f_raw[i*6+4].split(','))[:-1].astype(int),\n",
    "                    np.array(sunspot_f_raw[i*6+5].split(','))[:-1].astype(int)))\n",
    "    sunspot_numbers.append(sunspot_number)\n",
    "    \n",
    "sunspot_numbers = np.array(sunspot_numbers)"
   ]
  },
  {
   "cell_type": "code",
   "execution_count": null,
   "metadata": {},
   "outputs": [],
   "source": [
    "interpolated_temperatures = np.interp(sunspot_indices, all_time, all_temp_abs)\n",
    "assert(len(sunspot_indices)==len(sunspot_numbers))\n",
    "sunspot_"
   ]
  },
  {
   "cell_type": "code",
   "execution_count": 35,
   "metadata": {
    "scrolled": false
   },
   "outputs": [
    {
     "data": {
      "text/plain": [
       "<matplotlib.image.AxesImage at 0x7efbc8d7f050>"
      ]
     },
     "execution_count": 35,
     "metadata": {},
     "output_type": "execute_result"
    },
    {
     "data": {
      "image/png": "[encoded data removed]",
      "text/plain": [
       "<matplotlib.figure.Figure at 0x7efbc8e58ed0>"
      ]
     },
     "metadata": {},
     "output_type": "display_data"
    }
   ],
   "source": [
    "numbers_temp = np.copy(sunspot_numbers).astype(float)\n",
    "for i in range(len(sunspot_indices)):\n",
    "    for j in range(50):\n",
    "        if sunspot_numbers_temp[i][j]!=0:\n",
    "            sunspot_numbers_temp[i][j]=interpolated_temperatures[i]\n",
    "\n",
    "plt.imshow(sunspot_numbers_temp.T, aspect='auto', cmap='plasma', norm=colors.LogNorm())"
   ]
  },
  {
   "cell_type": "code",
   "execution_count": null,
   "metadata": {},
   "outputs": [],
   "source": []
  }
 ],
 "metadata": {
  "kernelspec": {
   "display_name": "Python 2",
   "language": "python",
   "name": "python2"
  },
  "language_info": {
   "codemirror_mode": {
    "name": "ipython",
    "version": 2
   },
   "file_extension": ".py",
   "mimetype": "text/x-python",
   "name": "python",
   "nbconvert_exporter": "python",
   "pygments_lexer": "ipython2",
   "version": "2.7.12"
  }
 },
 "nbformat": 4,
 "nbformat_minor": 2
}
